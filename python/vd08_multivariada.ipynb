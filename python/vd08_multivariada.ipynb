{
  "nbformat": 4,
  "nbformat_minor": 0,
  "metadata": {
    "colab": {
      "provenance": []
    },
    "kernelspec": {
      "name": "python3",
      "display_name": "Python 3"
    },
    "language_info": {
      "name": "python"
    }
  },
  "cells": [
    {
      "cell_type": "markdown",
      "source": [
        "# Course: Data Visualization\n",
        "## Author: Sandro da Silva Camargo sandrocamargo@unipampa.edu.br\n",
        "\n",
        "This notebook aims to demonstrate various methods for plotting multivariate data.\n",
        "\n",
        "To open this notebook in your Google Colab environment, click here."
      ],
      "metadata": {
        "id": "Alt3i69TOpc5"
      }
    },
    {
      "cell_type": "code",
      "execution_count": null,
      "metadata": {
        "id": "XeGPOEtaG8Mt"
      },
      "outputs": [],
      "source": [
        "# Importação das bibliotecas necessárias\n",
        "import pandas as pd\n",
        "import numpy as np\n",
        "import matplotlib.pyplot as plt\n",
        "import seaborn as sns\n",
        "from sklearn.decomposition import PCA\n",
        "from sklearn.manifold import MDS\n",
        "from sklearn.preprocessing import StandardScaler"
      ]
    },
    {
      "cell_type": "code",
      "source": [
        "# Carregar o dataset Iris\n",
        "iris = sns.load_dataset('iris')\n",
        "\n",
        "# Verificar a estrutura do dataset\n",
        "print(iris.head())"
      ],
      "metadata": {
        "id": "7-Q4jDi6MCfJ"
      },
      "execution_count": null,
      "outputs": []
    },
    {
      "cell_type": "code",
      "source": [
        "# Plot Sepal Length vs Sepal Width\n",
        "plt.figure(figsize=(6,4))\n",
        "plt.scatter(iris['sepal_length'], iris['sepal_width'])\n",
        "plt.xlabel('Sepal Length')\n",
        "plt.ylabel('Sepal Width')\n",
        "plt.title('Sepal Length vs Sepal Width')\n",
        "plt.savefig('multivar1.png')\n",
        "plt.show()\n",
        "\n",
        "# Plot Petal Length vs Petal Width\n",
        "plt.figure(figsize=(6,4))\n",
        "plt.scatter(iris['petal_length'], iris['petal_width'])\n",
        "plt.xlabel('Petal Length')\n",
        "plt.ylabel('Petal Width')\n",
        "plt.title('Petal Length vs Petal Width')\n",
        "plt.savefig('multivar2.png')\n",
        "plt.show()"
      ],
      "metadata": {
        "id": "6OfjsFIJMEtO"
      },
      "execution_count": null,
      "outputs": []
    },
    {
      "cell_type": "code",
      "source": [
        "# Plot com cores para cada espécie\n",
        "species_unique = iris['species'].unique()\n",
        "colors = {'setosa':'blue', 'versicolor':'green', 'virginica':'red'}\n",
        "\n",
        "plt.figure(figsize=(6,4))\n",
        "for species in species_unique:\n",
        "    subset = iris[iris['species'] == species]\n",
        "    plt.scatter(subset['sepal_length'], subset['sepal_width'], color=colors[species], label=species)\n",
        "\n",
        "plt.xlabel('Sepal Length')\n",
        "plt.ylabel('Sepal Width')\n",
        "plt.title('Sepal Length vs Sepal Width (Por Espécie)')\n",
        "plt.legend()\n",
        "plt.savefig('multivar3.png')\n",
        "plt.show()\n",
        "\n",
        "plt.figure(figsize=(6,4))\n",
        "for species in species_unique:\n",
        "    subset = iris[iris['species'] == species]\n",
        "    plt.scatter(subset['petal_length'], subset['petal_width'], color=colors[species], label=species)\n",
        "\n",
        "plt.xlabel('Petal Length')\n",
        "plt.ylabel('Petal Width')\n",
        "plt.title('Petal Length vs Petal Width (Por Espécie)')\n",
        "plt.legend()\n",
        "plt.savefig('multivar4.png')\n",
        "plt.show()"
      ],
      "metadata": {
        "id": "r0e7Az9PMMe8"
      },
      "execution_count": null,
      "outputs": []
    },
    {
      "cell_type": "code",
      "source": [
        "# Scatterplot matrix\n",
        "sns.pairplot(iris, hue=\"species\", palette=colors)\n",
        "plt.savefig('multivar-matrix.png')\n",
        "plt.show()"
      ],
      "metadata": {
        "id": "_WUSrW1kMQtI"
      },
      "execution_count": null,
      "outputs": []
    },
    {
      "cell_type": "code",
      "source": [
        "# Correlação\n",
        "corr = iris.drop('species', axis=1).corr()\n",
        "plt.figure(figsize=(8,6))\n",
        "sns.heatmap(corr, annot=True, cmap='coolwarm')\n",
        "plt.title('Correlação entre as variáveis do Iris')\n",
        "plt.savefig('multivar-corrplot.png')\n",
        "plt.show()"
      ],
      "metadata": {
        "id": "ZZPmdB0BMSgA"
      },
      "execution_count": null,
      "outputs": []
    },
    {
      "cell_type": "code",
      "source": [
        "# Análise de Componentes Principais (PCA)\n",
        "X = iris.drop('species', axis=1)\n",
        "X_std = StandardScaler().fit_transform(X)\n",
        "\n",
        "pca = PCA(n_components=2)\n",
        "principal_components = pca.fit_transform(X_std)\n",
        "pca_df = pd.DataFrame(data=principal_components, columns=['PC1', 'PC2'])\n",
        "pca_df = pd.concat([pca_df, iris['species']], axis=1)\n",
        "\n",
        "plt.figure(figsize=(6,4))\n",
        "sns.scatterplot(x='PC1', y='PC2', hue='species', data=pca_df, palette=colors)\n",
        "plt.title('PCA aplicado ao conjunto de dados Iris')\n",
        "plt.savefig('multivar-pca.png')\n",
        "plt.show()"
      ],
      "metadata": {
        "id": "ZAoOmqs3MUFx"
      },
      "execution_count": null,
      "outputs": []
    },
    {
      "cell_type": "code",
      "source": [
        "# MDS\n",
        "mds = MDS(n_components=2, random_state=42)\n",
        "mds_result = mds.fit_transform(X_std)\n",
        "\n",
        "mds_df = pd.DataFrame(data=mds_result, columns=['Dim1', 'Dim2'])\n",
        "mds_df = pd.concat([mds_df, iris['species']], axis=1)\n",
        "\n",
        "plt.figure(figsize=(6,4))\n",
        "sns.scatterplot(x='Dim1', y='Dim2', hue='species', data=mds_df, palette=colors)\n",
        "plt.title('MDS aplicado ao conjunto de dados Iris')\n",
        "plt.savefig('multivar-mds.png')\n",
        "plt.show()"
      ],
      "metadata": {
        "id": "CMobPH_JMYb3"
      },
      "execution_count": null,
      "outputs": []
    },
    {
      "cell_type": "code",
      "source": [
        "# Gráfico de linhas (Plotando diferentes variáveis)\n",
        "plt.figure(figsize=(8,6))\n",
        "for i, column in enumerate(iris.columns[:-1]):\n",
        "    plt.plot(iris[column], label=column)\n",
        "\n",
        "plt.legend(loc='upper left')\n",
        "plt.title(\"Gráfico de Linhas - Variáveis do Iris\")\n",
        "plt.savefig('multivar-lineplot.png')\n",
        "plt.show()"
      ],
      "metadata": {
        "id": "4pI8WNd1MbHA"
      },
      "execution_count": null,
      "outputs": []
    },
    {
      "cell_type": "code",
      "source": [
        "# Gráfico de Densidade 2D (Petal Length e Petal Width)\n",
        "plt.figure(figsize=(6,4))\n",
        "sns.kdeplot(data=iris, x=\"petal_length\", y=\"petal_width\", hue=\"species\", fill=True, palette=colors)\n",
        "plt.title('Gráfico de Densidade 2D: Petal Length vs Petal Width')\n",
        "plt.savefig('multivar-density2d.png')\n",
        "plt.show()\n"
      ],
      "metadata": {
        "id": "odoBb3UWMcYF"
      },
      "execution_count": null,
      "outputs": []
    }
  ]
}